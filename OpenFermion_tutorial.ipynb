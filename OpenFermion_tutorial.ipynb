{
 "cells": [
  {
   "cell_type": "code",
   "execution_count": 4,
   "metadata": {},
   "outputs": [],
   "source": [
    "from openfermion.hamiltonians import MolecularData\n",
    "from openfermion.transforms import get_fermion_operator, get_sparse_operator, jordan_wigner,bravyi_kitaev\n",
    "from openfermion.utils import get_ground_state,eigenspectrum,count_qubits\n",
    "import numpy as np\n",
    "import scipy\n",
    "import scipy.linalg\n",
    "from openfermionpyscf import run_pyscf"
   ]
  },
  {
   "cell_type": "code",
   "execution_count": null,
   "metadata": {},
   "outputs": [],
   "source": []
  },
  {
   "cell_type": "code",
   "execution_count": 2,
   "metadata": {},
   "outputs": [],
   "source": [
    "data_directory = 'LiH/LiH_data'\n",
    "\n",
    "# Set molecule parameters.\n",
    "# basis = 'sto-3g'\n",
    "basis = 'sto-6g'\n",
    "\n",
    "multiplicity = 1\n",
    "\n",
    "# bond_length_interval = 0.1\n",
    "# n_points = 30\n",
    "# bond_length_min = 1.0\n",
    "\n",
    "bond_lengths = np.loadtxt(\"spacings.txt\")"
   ]
  },
  {
   "cell_type": "code",
   "execution_count": 52,
   "metadata": {},
   "outputs": [
    {
     "name": "stdout",
     "output_type": "stream",
     "text": [
      "bond_length =  1.0\n"
     ]
    },
    {
     "name": "stderr",
     "output_type": "stream",
     "text": [
      "/home/taoyin/miniconda3/envs/python_3/lib/python3.7/site-packages/pyscf/scf/chkfile.py:31: H5pyDeprecationWarning: The default file mode will change to 'r' (read-only) in h5py 3.0. To suppress this warning, pass the mode you need to h5py.File(), or set the global default h5.get_config().default_file_mode, or set the environment variable H5PY_DEFAULT_READONLY=1. Available modes are: 'r', 'r+', 'w', 'w-'/'x', 'a'. See the docs for details.\n",
      "  with h5py.File(chkfile) as fh5:\n",
      "/home/taoyin/miniconda3/envs/python_3/lib/python3.7/site-packages/pyscf/lib/misc.py:876: H5pyDeprecationWarning: The default file mode will change to 'r' (read-only) in h5py 3.0. To suppress this warning, pass the mode you need to h5py.File(), or set the global default h5.get_config().default_file_mode, or set the environment variable H5PY_DEFAULT_READONLY=1. Available modes are: 'r', 'r+', 'w', 'w-'/'x', 'a'. See the docs for details.\n",
      "  h5py.File.__init__(self, filename, *args, **kwargs)\n"
     ]
    },
    {
     "name": "stdout",
     "output_type": "stream",
     "text": [
      "bond_length =  1.061\n",
      "bond_length =  1.122\n",
      "bond_length =  1.184\n",
      "bond_length =  1.245\n",
      "bond_length =  1.306\n",
      "bond_length =  1.367\n",
      "bond_length =  1.429\n",
      "bond_length =  1.49\n",
      "bond_length =  1.551\n",
      "bond_length =  1.612\n",
      "bond_length =  1.673\n",
      "bond_length =  1.735\n",
      "bond_length =  1.796\n",
      "bond_length =  1.857\n",
      "bond_length =  1.918\n",
      "bond_length =  1.98\n",
      "bond_length =  2.041\n",
      "bond_length =  2.102\n",
      "bond_length =  2.163\n",
      "bond_length =  2.224\n",
      "bond_length =  2.286\n",
      "bond_length =  2.347\n",
      "bond_length =  2.408\n",
      "bond_length =  2.469\n",
      "bond_length =  2.531\n",
      "bond_length =  2.592\n",
      "bond_length =  2.653\n",
      "bond_length =  2.714\n",
      "bond_length =  2.776\n",
      "bond_length =  2.837\n",
      "bond_length =  2.898\n",
      "bond_length =  2.959\n",
      "bond_length =  3.02\n",
      "bond_length =  3.082\n",
      "bond_length =  3.143\n",
      "bond_length =  3.204\n",
      "bond_length =  3.265\n",
      "bond_length =  3.327\n",
      "bond_length =  3.388\n",
      "bond_length =  3.449\n",
      "bond_length =  3.51\n",
      "bond_length =  3.571\n",
      "bond_length =  3.633\n",
      "bond_length =  3.694\n",
      "bond_length =  3.755\n",
      "bond_length =  3.816\n",
      "bond_length =  3.878\n",
      "bond_length =  3.939\n",
      "bond_length =  4.0\n"
     ]
    }
   ],
   "source": [
    "for point in range(0, bond_lengths.size):\n",
    "#     bond_length = bond_length_min + bond_length_interval * point\n",
    "#     bond_length = round(bond_length,3)\n",
    "#     bond_lengths += [bond_length]\n",
    "    bond_length = bond_lengths[point]\n",
    "    description = str(round(bond_length,3))\n",
    "    print('bond_length = ',description)\n",
    "    \n",
    "    geometry = [('Li', (0., 0., 0.)), ('H', (0., 0., bond_length))]\n",
    "    \n",
    "    molecule = MolecularData(\n",
    "        geometry, basis, multiplicity, description=description,data_directory=data_directory)\n",
    "    \n",
    "    molecule = run_pyscf(molecule, \n",
    "                     run_mp2 =True,\n",
    "                     run_cisd = True,\n",
    "                     run_ccsd = True,\n",
    "                     run_fci = True)\n",
    "    \n",
    "    molecule.save()"
   ]
  },
  {
   "cell_type": "code",
   "execution_count": 5,
   "metadata": {},
   "outputs": [
    {
     "name": "stdout",
     "output_type": "stream",
     "text": [
      "The total required qubits is:6\n"
     ]
    }
   ],
   "source": [
    "# Set Hamiltonian parameters.\n",
    "active_space_start = 1\n",
    "active_space_stop = 4\n",
    "\n",
    "\n",
    "# Generate molecule at different bond lengths.\n",
    "hf_energies = []\n",
    "fci_energies = []\n",
    "gs_energies = []\n",
    "\n",
    "for point in range(0, bond_lengths.size):\n",
    "#     bond_length = bond_length_min + bond_length_interval * point\n",
    "#     bond_length = round(bond_length,3)\n",
    "#     bond_lengths += [bond_length]\n",
    "    bond_length = bond_lengths[point]\n",
    "    description = str(round(bond_length,3))\n",
    "    \n",
    "    geometry = [('Li', (0., 0., 0.)), ('H', (0., 0., bond_length))]\n",
    "    \n",
    "    molecule = MolecularData(\n",
    "        geometry, basis, multiplicity, description=description,data_directory=data_directory)\n",
    "    \n",
    "# Load data.\n",
    "    molecule.load()\n",
    "    \n",
    "    # Get the Hamiltonian in an active space.\n",
    "    molecular_hamiltonian = molecule.get_molecular_hamiltonian(\n",
    "        occupied_indices=range(active_space_start),\n",
    "        active_indices=range(active_space_start, active_space_stop))\n",
    "    \n",
    "    rdm = molecule.get_molecular_rdm(use_fci=True)\n",
    "\n",
    "    # Map operator to fermions and qubits.\n",
    "    fermion_hamiltonian = get_fermion_operator(molecular_hamiltonian)\n",
    "    qubit_hamiltonian = bravyi_kitaev(fermion_hamiltonian)\n",
    "    qubit_hamiltonian.compress()\n",
    "    \n",
    "    # Get sparse Hamiltonian and energy in rotated basis.\n",
    "    sparse_hamiltonian = get_sparse_operator(qubit_hamiltonian)\n",
    "    energy, state = get_ground_state(sparse_hamiltonian)\n",
    "\n",
    "    \n",
    "    if point == 0:\n",
    "        print('The total required qubits is:{}'.format(count_qubits(qubit_hamiltonian)))\n",
    "#         print('The Jordan-Wigner Hamiltonian in canonical basis follows:\\n{}'.format(qubit_hamiltonian))\n",
    "\n",
    "\n",
    "#     gs_energies += [eigenspectrum(qubit_hamiltonian)[0]]\n",
    "    gs_energies += [energy]\n",
    "    hf_energies += [molecule.hf_energy]\n",
    "    fci_energies += [molecule.fci_energy]\n",
    "\n",
    "np.savetxt(\"gs_energies.txt\",np.array(gs_energies))\n",
    "np.savetxt(\"hf_energies.txt\",np.array(hf_energies))\n",
    "np.savetxt(\"fci_energies.txt\",np.array(fci_energies))"
   ]
  },
  {
   "cell_type": "code",
   "execution_count": 6,
   "metadata": {},
   "outputs": [
    {
     "data": {
      "text/plain": [
       "-7.347401922370468 [] +\n",
       "0.03231340848650476 [X0 X1 X2] +\n",
       "-0.011609328971486393 [X0 X1 X2 Z3] +\n",
       "0.007192968303540583 [X0 X1 Z3 X4] +\n",
       "0.04858559281376315 [X0 Y1 Y2] +\n",
       "-0.01034286468175097 [X0 Y1 Y2 Z4] +\n",
       "-0.01753583298529155 [X0 Y1 Y2 Z4 Z5] +\n",
       "0.007192968303540583 [X0 Y1 Z2 Y4 Z5] +\n",
       "0.03801808524202848 [X0 Z1 X2] +\n",
       "0.03801808524202848 [X0 Z1 X2 Z3] +\n",
       "0.006221170997084509 [X0 Z1 X4] +\n",
       "0.006221170997084509 [X0 X4 Z5] +\n",
       "0.03231340848650476 [Y0 X1 Y2] +\n",
       "-0.011609328971486393 [Y0 X1 Y2 Z3] +\n",
       "0.007192968303540583 [Y0 X1 Z3 Y4] +\n",
       "-0.04858559281376315 [Y0 Y1 X2] +\n",
       "0.01034286468175097 [Y0 Y1 X2 Z4] +\n",
       "0.01753583298529155 [Y0 Y1 X2 Z4 Z5] +\n",
       "-0.007192968303540583 [Y0 Y1 Z2 X4 Z5] +\n",
       "0.03801808524202848 [Y0 Z1 Y2] +\n",
       "0.03801808524202848 [Y0 Z1 Y2 Z3] +\n",
       "0.006221170997084509 [Y0 Z1 Y4] +\n",
       "0.006221170997084509 [Y0 Y4 Z5] +\n",
       "-0.040702614582469994 [Z0] +\n",
       "0.03231340848650476 [Z0 X1 Z2] +\n",
       "-0.011609328971486393 [Z0 X1 Z2 Z3] +\n",
       "-0.048585592813763144 [Z0 X1 Z3] +\n",
       "0.01753583298529155 [Z0 X1 Z3 Z4] +\n",
       "0.01034286468175097 [Z0 X1 Z3 Z4 Z5] +\n",
       "-0.007192968303540583 [Z0 Y1 X2 Y4 Z5] +\n",
       "0.007192968303540583 [Z0 Y1 Y2 X4 Z5] +\n",
       "-0.040702614582470015 [Z0 Z1] +\n",
       "0.07167763100183573 [Z0 Z1 Z2] +\n",
       "0.07167763100183573 [Z0 Z1 Z2 Z3] +\n",
       "0.04897885749421581 [Z0 Z1 Z4] +\n",
       "0.04275768649713129 [Z0 Z1 Z4 Z5] +\n",
       "0.03365954575980726 [Z0 Z2] +\n",
       "0.03365954575980726 [Z0 Z2 Z3] +\n",
       "0.04275768649713129 [Z0 Z4] +\n",
       "0.04897885749421581 [Z0 Z4 Z5] +\n",
       "0.011609328971486393 [X1] +\n",
       "-0.007192968303540583 [X1 X2 X4] +\n",
       "-0.007192968303540583 [X1 Y2 Y4] +\n",
       "0.048585592813763144 [X1 Z2] +\n",
       "-0.01753583298529155 [X1 Z2 Z4] +\n",
       "-0.01034286468175097 [X1 Z2 Z4 Z5] +\n",
       "-0.03231340848650476 [X1 Z3] +\n",
       "0.09144241908506286 [Z1] +\n",
       "0.009287485627796377 [Z1 X2 Z3 X4] +\n",
       "0.009287485627796377 [Z1 Y2 Z3 Y4] +\n",
       "-0.08807183170449988 [Z1 Z2 Z3] +\n",
       "0.05796452771803308 [Z1 Z2 Z3 Z4] +\n",
       "0.048677042090236704 [Z1 Z2 Z3 Z4 Z5] +\n",
       "0.06926795785186562 [Z1 Z3] +\n",
       "0.009287485627796377 [X2 X4 Z5] +\n",
       "0.009287485627796377 [Y2 Y4 Z5] +\n",
       "-0.08807183170449988 [Z2] +\n",
       "0.048677042090236704 [Z2 Z4] +\n",
       "0.05796452771803308 [Z2 Z4 Z5] +\n",
       "-0.16521435226706005 [Z4] +\n",
       "-0.16521435226706005 [Z4 Z5] +\n",
       "0.07828114149315557 [Z5]"
      ]
     },
     "execution_count": 6,
     "metadata": {},
     "output_type": "execute_result"
    }
   ],
   "source": [
    "molecular_hamiltonian;\n",
    "\n",
    "fermion_hamiltonian;\n",
    "\n",
    "qubit_hamiltonian"
   ]
  },
  {
   "cell_type": "code",
   "execution_count": 7,
   "metadata": {},
   "outputs": [
    {
     "data": {
      "image/png": "[encoded data removed]",
      "text/plain": [
       "<Figure size 432x288 with 1 Axes>"
      ]
     },
     "metadata": {
      "needs_background": "light"
     },
     "output_type": "display_data"
    }
   ],
   "source": [
    "# Plot.\n",
    "import matplotlib.pyplot as plt\n",
    "%matplotlib inline\n",
    "plt.figure(0)\n",
    "plt.plot(bond_lengths, gs_energies, \"r.-\",\n",
    "         label=\"Ground-state energy of molecular LiH\")\n",
    "plt.plot(bond_lengths, fci_energies, 'x-',\n",
    "        label=\"fci energy of molecular LiH\")\n",
    "plt.plot(bond_lengths, hf_energies, 'o-',\n",
    "        label=\"H-F energy of molecular LiH\")\n",
    "\n",
    "plt.ylabel('Energy in Hartree')\n",
    "plt.xlabel('Bond length in angstrom')\n",
    "plt.legend()\n",
    "plt.show()"
   ]
  },
  {
   "cell_type": "code",
   "execution_count": 12,
   "metadata": {},
   "outputs": [
    {
     "data": {
      "image/png": "[encoded data removed]",
      "text/plain": [
       "<Figure size 432x288 with 1 Axes>"
      ]
     },
     "metadata": {
      "needs_background": "light"
     },
     "output_type": "display_data"
    }
   ],
   "source": [
    "plt.figure(0)\n",
    "plt.plot(bond_lengths, gs_energies, \"r.-\",\n",
    "         label=\"Ground-state energy of molecular LiH\")\n",
    "plt.plot(bond_lengths, fci_energies, 'x-',\n",
    "        label=\"fci energy of molecular LiH\")\n",
    "plt.plot(bond_lengths, hf_energies, 'o-',\n",
    "        label=\"H-F energy of molecular LiH\")\n",
    "\n",
    "plt.ylabel('Energy in Hartree')\n",
    "plt.xlabel('Bond length in angstrom')\n",
    "plt.legend()\n",
    "plt.show()"
   ]
  },
  {
   "cell_type": "markdown",
   "metadata": {},
   "source": [
    "# Construct effective Hamiltonian on qubits 0,2,4, by average on |1> for qubit 1,3,5"
   ]
  },
  {
   "cell_type": "code",
   "execution_count": 8,
   "metadata": {},
   "outputs": [
    {
     "data": {
      "text/plain": [
       "{(): -7.347401922370468,\n",
       " ((0, 'Z'),): -0.040702614582469994,\n",
       " ((0, 'X'), (1, 'Y'), (2, 'Y')): 0.04858559281376315,\n",
       " ((0, 'Y'), (1, 'Y'), (2, 'X')): -0.04858559281376315,\n",
       " ((0, 'Z'), (1, 'Z')): -0.040702614582470015,\n",
       " ((0, 'Z'), (1, 'X'), (3, 'Z')): -0.048585592813763144,\n",
       " ((1, 'X'), (2, 'Z')): 0.048585592813763144,\n",
       " ((2, 'Z'),): -0.08807183170449988,\n",
       " ((1, 'Z'), (2, 'Z'), (3, 'Z')): -0.08807183170449988,\n",
       " ((4, 'Z'),): -0.16521435226706005,\n",
       " ((4, 'Z'), (5, 'Z')): -0.16521435226706005,\n",
       " ((1, 'Z'),): 0.09144241908506286,\n",
       " ((0, 'Y'), (1, 'X'), (2, 'Y')): 0.03231340848650476,\n",
       " ((0, 'X'), (1, 'X'), (2, 'X')): 0.03231340848650476,\n",
       " ((1, 'X'), (3, 'Z')): -0.03231340848650476,\n",
       " ((0, 'Z'), (1, 'X'), (2, 'Z')): 0.03231340848650476,\n",
       " ((0, 'Y'), (1, 'Z'), (2, 'Y'), (3, 'Z')): 0.03801808524202848,\n",
       " ((0, 'X'), (1, 'Z'), (2, 'X')): 0.03801808524202848,\n",
       " ((0, 'X'), (1, 'Z'), (2, 'X'), (3, 'Z')): 0.03801808524202848,\n",
       " ((0, 'Y'), (1, 'Z'), (2, 'Y')): 0.03801808524202848,\n",
       " ((0, 'Y'), (4, 'Y'), (5, 'Z')): 0.006221170997084509,\n",
       " ((0, 'X'), (1, 'Z'), (4, 'X')): 0.006221170997084509,\n",
       " ((0, 'X'), (4, 'X'), (5, 'Z')): 0.006221170997084509,\n",
       " ((0, 'Y'), (1, 'Z'), (4, 'Y')): 0.006221170997084509,\n",
       " ((0, 'Z'), (2, 'Z')): 0.03365954575980726,\n",
       " ((0, 'Z'), (1, 'Z'), (2, 'Z'), (3, 'Z')): 0.07167763100183573,\n",
       " ((0, 'X'), (1, 'X'), (2, 'X'), (3, 'Z')): -0.011609328971486393,\n",
       " ((0, 'Y'), (1, 'X'), (2, 'Y'), (3, 'Z')): -0.011609328971486393,\n",
       " ((0, 'X'), (1, 'Y'), (2, 'Z'), (4, 'Y'), (5, 'Z')): 0.007192968303540583,\n",
       " ((0, 'X'), (1, 'X'), (3, 'Z'), (4, 'X')): 0.007192968303540583,\n",
       " ((0, 'Y'), (1, 'Y'), (2, 'Z'), (4, 'X'), (5, 'Z')): -0.007192968303540583,\n",
       " ((0, 'Y'), (1, 'X'), (3, 'Z'), (4, 'Y')): 0.007192968303540583,\n",
       " ((0, 'Z'), (4, 'Z')): 0.04275768649713129,\n",
       " ((0, 'X'), (1, 'Y'), (2, 'Y'), (4, 'Z')): -0.01034286468175097,\n",
       " ((0, 'Y'), (1, 'Y'), (2, 'X'), (4, 'Z')): 0.01034286468175097,\n",
       " ((0, 'Z'), (4, 'Z'), (5, 'Z')): 0.04897885749421581,\n",
       " ((0, 'X'), (1, 'Y'), (2, 'Y'), (4, 'Z'), (5, 'Z')): -0.01753583298529155,\n",
       " ((0, 'Y'), (1, 'Y'), (2, 'X'), (4, 'Z'), (5, 'Z')): 0.01753583298529155,\n",
       " ((0, 'Z'), (1, 'Z'), (2, 'Z')): 0.07167763100183573,\n",
       " ((0, 'Z'), (1, 'X'), (2, 'Z'), (3, 'Z')): -0.011609328971486393,\n",
       " ((1, 'X'),): 0.011609328971486393,\n",
       " ((0, 'Z'), (1, 'Y'), (2, 'X'), (4, 'Y'), (5, 'Z')): -0.007192968303540583,\n",
       " ((0, 'Z'), (1, 'Y'), (2, 'Y'), (4, 'X'), (5, 'Z')): 0.007192968303540583,\n",
       " ((1, 'X'), (2, 'X'), (4, 'X')): -0.007192968303540583,\n",
       " ((1, 'X'), (2, 'Y'), (4, 'Y')): -0.007192968303540583,\n",
       " ((0, 'Z'), (2, 'Z'), (3, 'Z')): 0.03365954575980726,\n",
       " ((0, 'Z'), (1, 'Z'), (4, 'Z')): 0.04897885749421581,\n",
       " ((0, 'Z'), (1, 'X'), (3, 'Z'), (4, 'Z')): 0.01753583298529155,\n",
       " ((1, 'X'), (2, 'Z'), (4, 'Z')): -0.01753583298529155,\n",
       " ((0, 'Z'), (1, 'Z'), (4, 'Z'), (5, 'Z')): 0.04275768649713129,\n",
       " ((0, 'Z'), (1, 'X'), (3, 'Z'), (4, 'Z'), (5, 'Z')): 0.01034286468175097,\n",
       " ((1, 'X'), (2, 'Z'), (4, 'Z'), (5, 'Z')): -0.01034286468175097,\n",
       " ((1, 'Z'), (3, 'Z')): 0.06926795785186562,\n",
       " ((2, 'Y'), (4, 'Y'), (5, 'Z')): 0.009287485627796377,\n",
       " ((1, 'Z'), (2, 'X'), (3, 'Z'), (4, 'X')): 0.009287485627796377,\n",
       " ((2, 'X'), (4, 'X'), (5, 'Z')): 0.009287485627796377,\n",
       " ((1, 'Z'), (2, 'Y'), (3, 'Z'), (4, 'Y')): 0.009287485627796377,\n",
       " ((2, 'Z'), (4, 'Z')): 0.048677042090236704,\n",
       " ((2, 'Z'), (4, 'Z'), (5, 'Z')): 0.05796452771803308,\n",
       " ((1, 'Z'), (2, 'Z'), (3, 'Z'), (4, 'Z')): 0.05796452771803308,\n",
       " ((1, 'Z'), (2, 'Z'), (3, 'Z'), (4, 'Z'), (5, 'Z')): 0.048677042090236704,\n",
       " ((5, 'Z'),): 0.07828114149315557}"
      ]
     },
     "execution_count": 8,
     "metadata": {},
     "output_type": "execute_result"
    }
   ],
   "source": [
    "qubit_hamiltonian.terms"
   ]
  },
  {
   "cell_type": "code",
   "execution_count": 9,
   "metadata": {},
   "outputs": [],
   "source": [
    "# the first qubit is \n",
    "def partial_average(key,drop_qubits=[1,3,5],avg_dict={'X':0,'Y':0,'Z':1},init_fock=0):\n",
    "    key=list(key)\n",
    "    factor=1\n",
    "    new_key=[]\n",
    "    for k in key:\n",
    "        if k[0] not in drop_qubits:\n",
    "            new_key.append(k)\n",
    "        if k[0] in drop_qubits:\n",
    "            if k[0]==0:\n",
    "                factor*=avg_dict[k[1]]\n",
    "            else:\n",
    "                factor*=avg_dict[k[1]]\n",
    "        #print(key)\n",
    "    new_key=tuple(new_key)\n",
    "    {new_key:factor}\n",
    "    return (new_key,factor)"
   ]
  },
  {
   "cell_type": "code",
   "execution_count": 10,
   "metadata": {},
   "outputs": [
    {
     "ename": "NameError",
     "evalue": "name 'terms_dict' is not defined",
     "output_type": "error",
     "traceback": [
      "\u001b[0;31m---------------------------------------------------------------------------\u001b[0m",
      "\u001b[0;31mNameError\u001b[0m                                 Traceback (most recent call last)",
      "\u001b[0;32m<ipython-input-10-3b96b4408b1d>\u001b[0m in \u001b[0;36m<module>\u001b[0;34m\u001b[0m\n\u001b[1;32m      1\u001b[0m \u001b[0mreduced_terms\u001b[0m\u001b[0;34m=\u001b[0m\u001b[0;34m[\u001b[0m\u001b[0;34m]\u001b[0m\u001b[0;34m\u001b[0m\u001b[0;34m\u001b[0m\u001b[0m\n\u001b[0;32m----> 2\u001b[0;31m \u001b[0;32mfor\u001b[0m \u001b[0mkey\u001b[0m \u001b[0;32min\u001b[0m \u001b[0mterms_dict\u001b[0m\u001b[0;34m.\u001b[0m\u001b[0mkeys\u001b[0m\u001b[0;34m(\u001b[0m\u001b[0;34m)\u001b[0m\u001b[0;34m:\u001b[0m\u001b[0;34m\u001b[0m\u001b[0;34m\u001b[0m\u001b[0m\n\u001b[0m\u001b[1;32m      3\u001b[0m     \u001b[0mrt\u001b[0m\u001b[0;34m=\u001b[0m\u001b[0mpartial_average\u001b[0m\u001b[0;34m(\u001b[0m\u001b[0mkey\u001b[0m\u001b[0;34m)\u001b[0m\u001b[0;34m\u001b[0m\u001b[0;34m\u001b[0m\u001b[0m\n\u001b[1;32m      4\u001b[0m     \u001b[0mreduced_terms\u001b[0m\u001b[0;34m.\u001b[0m\u001b[0mappend\u001b[0m\u001b[0;34m(\u001b[0m\u001b[0mrt\u001b[0m\u001b[0;34m)\u001b[0m\u001b[0;34m\u001b[0m\u001b[0;34m\u001b[0m\u001b[0m\n\u001b[1;32m      5\u001b[0m \u001b[0mreduced_terms\u001b[0m\u001b[0;34m\u001b[0m\u001b[0;34m\u001b[0m\u001b[0m\n",
      "\u001b[0;31mNameError\u001b[0m: name 'terms_dict' is not defined"
     ]
    }
   ],
   "source": [
    "reduced_terms=[]\n",
    "for key in terms_dict.keys():\n",
    "    rt=partial_average(key)   \n",
    "    reduced_terms.append(rt)\n",
    "reduced_terms"
   ]
  },
  {
   "cell_type": "markdown",
   "metadata": {},
   "source": [
    "## combining all same terms in sim_dict"
   ]
  },
  {
   "cell_type": "code",
   "execution_count": 11,
   "metadata": {},
   "outputs": [
    {
     "ename": "ValueError",
     "evalue": "operands could not be broadcast together with shapes (0,) (62,) ",
     "output_type": "error",
     "traceback": [
      "\u001b[0;31m---------------------------------------------------------------------------\u001b[0m",
      "\u001b[0;31mValueError\u001b[0m                                Traceback (most recent call last)",
      "\u001b[0;32m<ipython-input-11-b3e8450beb6c>\u001b[0m in \u001b[0;36m<module>\u001b[0;34m\u001b[0m\n\u001b[1;32m      3\u001b[0m \u001b[0mfactors\u001b[0m\u001b[0;34m=\u001b[0m\u001b[0mnp\u001b[0m\u001b[0;34m.\u001b[0m\u001b[0marray\u001b[0m\u001b[0;34m(\u001b[0m\u001b[0;34m[\u001b[0m\u001b[0mf\u001b[0m\u001b[0;34m[\u001b[0m\u001b[0;36m1\u001b[0m\u001b[0;34m]\u001b[0m \u001b[0;32mfor\u001b[0m \u001b[0mf\u001b[0m \u001b[0;32min\u001b[0m \u001b[0mreduced_terms\u001b[0m\u001b[0;34m]\u001b[0m\u001b[0;34m)\u001b[0m\u001b[0;34m\u001b[0m\u001b[0;34m\u001b[0m\u001b[0m\n\u001b[1;32m      4\u001b[0m \u001b[0mcs\u001b[0m\u001b[0;34m=\u001b[0m\u001b[0mnp\u001b[0m\u001b[0;34m.\u001b[0m\u001b[0marray\u001b[0m\u001b[0;34m(\u001b[0m\u001b[0;34m[\u001b[0m\u001b[0mc\u001b[0m \u001b[0;32mfor\u001b[0m \u001b[0mc\u001b[0m \u001b[0;32min\u001b[0m \u001b[0mqubit_hamiltonian\u001b[0m\u001b[0;34m.\u001b[0m\u001b[0mterms\u001b[0m\u001b[0;34m.\u001b[0m\u001b[0mvalues\u001b[0m\u001b[0;34m(\u001b[0m\u001b[0;34m)\u001b[0m\u001b[0;34m]\u001b[0m\u001b[0;34m)\u001b[0m\u001b[0;34m\u001b[0m\u001b[0;34m\u001b[0m\u001b[0m\n\u001b[0;32m----> 5\u001b[0;31m \u001b[0mcs_rescale\u001b[0m\u001b[0;34m=\u001b[0m\u001b[0mnp\u001b[0m\u001b[0;34m.\u001b[0m\u001b[0mmultiply\u001b[0m\u001b[0;34m(\u001b[0m\u001b[0mfactors\u001b[0m\u001b[0;34m,\u001b[0m\u001b[0mcs\u001b[0m\u001b[0;34m)\u001b[0m\u001b[0;34m\u001b[0m\u001b[0;34m\u001b[0m\u001b[0m\n\u001b[0m\u001b[1;32m      6\u001b[0m \u001b[0;34m\u001b[0m\u001b[0m\n\u001b[1;32m      7\u001b[0m \u001b[0mreduced_terms_rescale\u001b[0m\u001b[0;34m=\u001b[0m\u001b[0;34m[\u001b[0m\u001b[0;34m]\u001b[0m\u001b[0;34m\u001b[0m\u001b[0;34m\u001b[0m\u001b[0m\n",
      "\u001b[0;31mValueError\u001b[0m: operands could not be broadcast together with shapes (0,) (62,) "
     ]
    }
   ],
   "source": [
    "import numpy as np\n",
    "ham_terms=np.array([f[0] for f in reduced_terms])\n",
    "factors=np.array([f[1] for f in reduced_terms])\n",
    "cs=np.array([c for c in qubit_hamiltonian.terms.values()])\n",
    "cs_rescale=np.multiply(factors,cs)\n",
    "\n",
    "reduced_terms_rescale=[]\n",
    "for i in range(len(reduced_terms)):\n",
    "    if cs_rescale[i] !=0:\n",
    "        reduced_terms_rescale.append((reduced_terms[i][0],cs_rescale[i]))\n",
    "reduced_terms_rescale"
   ]
  },
  {
   "cell_type": "code",
   "execution_count": 425,
   "metadata": {},
   "outputs": [
    {
     "data": {
      "text/plain": [
       "dict_values([0.0782811414931556, 0.027882756551390667, -0.1467285465541622, -0.16125794620832434, 0.0030560036156364436, 0.0030560036156364436, 0.005754199313654237, 0.005754199313654237, 0.05262597180170608, 0.06175754692930809, 0.010350244330067713, 0.010350244330067713, 0.060282913124720165])"
      ]
     },
     "execution_count": 425,
     "metadata": {},
     "output_type": "execute_result"
    }
   ],
   "source": [
    "sim_dict={}\n",
    "for term in reduced_terms_rescale:\n",
    "    if term not in sim_dict.keys():\n",
    "        sim_dict[term[0]]=term[1]\n",
    "    else:\n",
    "        sim_dict[term[0]]+=term[1]\n",
    "[sim_dict.values()]"
   ]
  }
 ],
 "metadata": {
  "kernelspec": {
   "display_name": "Python [conda env:python_3]",
   "language": "python",
   "name": "conda-env-python_3-py"
  },
  "language_info": {
   "codemirror_mode": {
    "name": "ipython",
    "version": 3
   },
   "file_extension": ".py",
   "mimetype": "text/x-python",
   "name": "python",
   "nbconvert_exporter": "python",
   "pygments_lexer": "ipython3",
   "version": "3.7.4"
  }
 },
 "nbformat": 4,
 "nbformat_minor": 4
}
